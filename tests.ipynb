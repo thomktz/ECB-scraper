{
 "cells": [
  {
   "cell_type": "code",
   "execution_count": null,
   "metadata": {},
   "outputs": [],
   "source": [
    "%load autoreload\n",
    "\n",
    "%autoreload 2"
   ]
  },
  {
   "cell_type": "code",
   "execution_count": 4,
   "metadata": {},
   "outputs": [
    {
     "name": "stdout",
     "output_type": "stream",
     "text": [
      "Obtaining file:///Users/thomaskientz/Desktop/Cours/ml-for-trading/ECB-scraper\n",
      "  Installing build dependencies ... \u001b[?25ldone\n",
      "\u001b[?25h  Checking if build backend supports build_editable ... \u001b[?25ldone\n",
      "\u001b[?25h  Getting requirements to build editable ... \u001b[?25ldone\n",
      "\u001b[?25h  Preparing editable metadata (pyproject.toml) ... \u001b[?25ldone\n",
      "\u001b[?25hRequirement already satisfied: beautifulsoup4<5.0.0,>=4.12.3 in /Users/thomaskientz/miniforge3/lib/python3.9/site-packages (from ecb-scraper==0.1.0) (4.12.3)\n",
      "Collecting pandas<3.0.0,>=2.2.0 (from ecb-scraper==0.1.0)\n",
      "  Obtaining dependency information for pandas<3.0.0,>=2.2.0 from https://files.pythonhosted.org/packages/ee/0d/43c80cc69ad223356b61d12e488acf5f861dc833d498f43869efd871f5c9/pandas-2.2.0-cp39-cp39-macosx_11_0_arm64.whl.metadata\n",
      "  Using cached pandas-2.2.0-cp39-cp39-macosx_11_0_arm64.whl.metadata (19 kB)\n",
      "Requirement already satisfied: soupsieve>1.2 in /Users/thomaskientz/miniforge3/lib/python3.9/site-packages (from beautifulsoup4<5.0.0,>=4.12.3->ecb-scraper==0.1.0) (2.3.2.post1)\n",
      "Requirement already satisfied: numpy<2,>=1.22.4 in /Users/thomaskientz/miniforge3/lib/python3.9/site-packages (from pandas<3.0.0,>=2.2.0->ecb-scraper==0.1.0) (1.23.1)\n",
      "Requirement already satisfied: python-dateutil>=2.8.2 in /Users/thomaskientz/miniforge3/lib/python3.9/site-packages (from pandas<3.0.0,>=2.2.0->ecb-scraper==0.1.0) (2.8.2)\n",
      "Requirement already satisfied: pytz>=2020.1 in /Users/thomaskientz/miniforge3/lib/python3.9/site-packages (from pandas<3.0.0,>=2.2.0->ecb-scraper==0.1.0) (2022.7.1)\n",
      "Requirement already satisfied: tzdata>=2022.7 in /Users/thomaskientz/miniforge3/lib/python3.9/site-packages (from pandas<3.0.0,>=2.2.0->ecb-scraper==0.1.0) (2023.3)\n",
      "Requirement already satisfied: six>=1.5 in /Users/thomaskientz/miniforge3/lib/python3.9/site-packages (from python-dateutil>=2.8.2->pandas<3.0.0,>=2.2.0->ecb-scraper==0.1.0) (1.16.0)\n",
      "Using cached pandas-2.2.0-cp39-cp39-macosx_11_0_arm64.whl (11.8 MB)\n",
      "Building wheels for collected packages: ecb-scraper\n",
      "  Building editable for ecb-scraper (pyproject.toml) ... \u001b[?25lerror\n",
      "  \u001b[1;31merror\u001b[0m: \u001b[1msubprocess-exited-with-error\u001b[0m\n",
      "  \n",
      "  \u001b[31m×\u001b[0m \u001b[32mBuilding editable for ecb-scraper \u001b[0m\u001b[1;32m(\u001b[0m\u001b[32mpyproject.toml\u001b[0m\u001b[1;32m)\u001b[0m did not run successfully.\n",
      "  \u001b[31m│\u001b[0m exit code: \u001b[1;36m1\u001b[0m\n",
      "  \u001b[31m╰─>\u001b[0m \u001b[31m[26 lines of output]\u001b[0m\n",
      "  \u001b[31m   \u001b[0m Traceback (most recent call last):\n",
      "  \u001b[31m   \u001b[0m   File \"/Users/thomaskientz/miniforge3/lib/python3.9/site-packages/pip/_vendor/pyproject_hooks/_in_process/_in_process.py\", line 353, in <module>\n",
      "  \u001b[31m   \u001b[0m     main()\n",
      "  \u001b[31m   \u001b[0m   File \"/Users/thomaskientz/miniforge3/lib/python3.9/site-packages/pip/_vendor/pyproject_hooks/_in_process/_in_process.py\", line 335, in main\n",
      "  \u001b[31m   \u001b[0m     json_out['return_val'] = hook(**hook_input['kwargs'])\n",
      "  \u001b[31m   \u001b[0m   File \"/Users/thomaskientz/miniforge3/lib/python3.9/site-packages/pip/_vendor/pyproject_hooks/_in_process/_in_process.py\", line 273, in build_editable\n",
      "  \u001b[31m   \u001b[0m     return hook(wheel_directory, config_settings, metadata_directory)\n",
      "  \u001b[31m   \u001b[0m   File \"/private/var/folders/kw/l9kfnpg13fs8k1pgdc67w__m0000gn/T/pip-build-env-rt5o94_p/overlay/lib/python3.9/site-packages/poetry/core/masonry/api.py\", line 82, in build_editable\n",
      "  \u001b[31m   \u001b[0m     return WheelBuilder.make_in(\n",
      "  \u001b[31m   \u001b[0m   File \"/private/var/folders/kw/l9kfnpg13fs8k1pgdc67w__m0000gn/T/pip-build-env-rt5o94_p/overlay/lib/python3.9/site-packages/poetry/core/masonry/builders/wheel.py\", line 88, in make_in\n",
      "  \u001b[31m   \u001b[0m     wb.build(target_dir=directory)\n",
      "  \u001b[31m   \u001b[0m   File \"/private/var/folders/kw/l9kfnpg13fs8k1pgdc67w__m0000gn/T/pip-build-env-rt5o94_p/overlay/lib/python3.9/site-packages/poetry/core/masonry/builders/wheel.py\", line 118, in build\n",
      "  \u001b[31m   \u001b[0m     self._add_pth(zip_file)\n",
      "  \u001b[31m   \u001b[0m   File \"/private/var/folders/kw/l9kfnpg13fs8k1pgdc67w__m0000gn/T/pip-build-env-rt5o94_p/overlay/lib/python3.9/site-packages/poetry/core/masonry/builders/wheel.py\", line 147, in _add_pth\n",
      "  \u001b[31m   \u001b[0m     for include in self._module.includes:\n",
      "  \u001b[31m   \u001b[0m   File \"/Users/thomaskientz/miniforge3/lib/python3.9/functools.py\", line 969, in __get__\n",
      "  \u001b[31m   \u001b[0m     val = self.func(instance)\n",
      "  \u001b[31m   \u001b[0m   File \"/private/var/folders/kw/l9kfnpg13fs8k1pgdc67w__m0000gn/T/pip-build-env-rt5o94_p/overlay/lib/python3.9/site-packages/poetry/core/masonry/builders/builder.py\", line 92, in _module\n",
      "  \u001b[31m   \u001b[0m     return Module(\n",
      "  \u001b[31m   \u001b[0m   File \"/private/var/folders/kw/l9kfnpg13fs8k1pgdc67w__m0000gn/T/pip-build-env-rt5o94_p/overlay/lib/python3.9/site-packages/poetry/core/masonry/utils/module.py\", line 79, in __init__\n",
      "  \u001b[31m   \u001b[0m     PackageInclude(\n",
      "  \u001b[31m   \u001b[0m   File \"/private/var/folders/kw/l9kfnpg13fs8k1pgdc67w__m0000gn/T/pip-build-env-rt5o94_p/overlay/lib/python3.9/site-packages/poetry/core/masonry/utils/package_include.py\", line 29, in __init__\n",
      "  \u001b[31m   \u001b[0m     self.check_elements()\n",
      "  \u001b[31m   \u001b[0m   File \"/private/var/folders/kw/l9kfnpg13fs8k1pgdc67w__m0000gn/T/pip-build-env-rt5o94_p/overlay/lib/python3.9/site-packages/poetry/core/masonry/utils/package_include.py\", line 66, in check_elements\n",
      "  \u001b[31m   \u001b[0m     raise ValueError(\n",
      "  \u001b[31m   \u001b[0m ValueError: /Users/thomaskientz/Desktop/Cours/ml-for-trading/ECB-scraper/ecb-scraper does not contain any element\n",
      "  \u001b[31m   \u001b[0m \u001b[31m[end of output]\u001b[0m\n",
      "  \n",
      "  \u001b[1;35mnote\u001b[0m: This error originates from a subprocess, and is likely not a problem with pip.\n",
      "\u001b[?25h\u001b[31m  ERROR: Failed building editable for ecb-scraper\u001b[0m\u001b[31m\n",
      "\u001b[0mFailed to build ecb-scraper\n",
      "\u001b[31mERROR: Could not build wheels for ecb-scraper, which is required to install pyproject.toml-based projects\u001b[0m\u001b[31m\n",
      "\u001b[0m\n",
      "\u001b[1m[\u001b[0m\u001b[34;49mnotice\u001b[0m\u001b[1;39;49m]\u001b[0m\u001b[39;49m A new release of pip is available: \u001b[0m\u001b[31;49m23.2.1\u001b[0m\u001b[39;49m -> \u001b[0m\u001b[32;49m23.3.2\u001b[0m\n",
      "\u001b[1m[\u001b[0m\u001b[34;49mnotice\u001b[0m\u001b[1;39;49m]\u001b[0m\u001b[39;49m To update, run: \u001b[0m\u001b[32;49mpip install --upgrade pip\u001b[0m\n",
      "Note: you may need to restart the kernel to use updated packages.\n"
     ]
    }
   ],
   "source": [
    "pip install -e ."
   ]
  },
  {
   "cell_type": "code",
   "execution_count": 3,
   "metadata": {},
   "outputs": [
    {
     "ename": "ModuleNotFoundError",
     "evalue": "No module named 'ecb_scraper'",
     "output_type": "error",
     "traceback": [
      "\u001b[0;31m---------------------------------------------------------------------------\u001b[0m",
      "\u001b[0;31mModuleNotFoundError\u001b[0m                       Traceback (most recent call last)",
      "\u001b[1;32m/Users/thomaskientz/Desktop/Cours/ml-for-trading/ECB-scraper/tests.ipynb Cell 3\u001b[0m line \u001b[0;36m<cell line: 3>\u001b[0;34m()\u001b[0m\n\u001b[1;32m      <a href='vscode-notebook-cell:/Users/thomaskientz/Desktop/Cours/ml-for-trading/ECB-scraper/tests.ipynb#W2sZmlsZQ%3D%3D?line=0'>1</a>\u001b[0m \u001b[39mfrom\u001b[39;00m \u001b[39mrequests\u001b[39;00m \u001b[39mimport\u001b[39;00m get\n\u001b[1;32m      <a href='vscode-notebook-cell:/Users/thomaskientz/Desktop/Cours/ml-for-trading/ECB-scraper/tests.ipynb#W2sZmlsZQ%3D%3D?line=1'>2</a>\u001b[0m \u001b[39mfrom\u001b[39;00m \u001b[39mbs4\u001b[39;00m \u001b[39mimport\u001b[39;00m BeautifulSoup\n\u001b[0;32m----> <a href='vscode-notebook-cell:/Users/thomaskientz/Desktop/Cours/ml-for-trading/ECB-scraper/tests.ipynb#W2sZmlsZQ%3D%3D?line=2'>3</a>\u001b[0m \u001b[39mfrom\u001b[39;00m \u001b[39mecb_scraper\u001b[39;00m\u001b[39m.\u001b[39;00m\u001b[39mconfig\u001b[39;00m \u001b[39mimport\u001b[39;00m index_url_year, MIN_YEAR\n\u001b[1;32m      <a href='vscode-notebook-cell:/Users/thomaskientz/Desktop/Cours/ml-for-trading/ECB-scraper/tests.ipynb#W2sZmlsZQ%3D%3D?line=4'>5</a>\u001b[0m \u001b[39mdef\u001b[39;00m \u001b[39mget_year_conferences\u001b[39m(year):\n\u001b[1;32m      <a href='vscode-notebook-cell:/Users/thomaskientz/Desktop/Cours/ml-for-trading/ECB-scraper/tests.ipynb#W2sZmlsZQ%3D%3D?line=5'>6</a>\u001b[0m \u001b[39m    \u001b[39m\u001b[39m\"\"\"Get all press conferences for a given year.\"\"\"\u001b[39;00m\n",
      "\u001b[0;31mModuleNotFoundError\u001b[0m: No module named 'ecb_scraper'"
     ]
    }
   ],
   "source": [
    "from requests import get\n",
    "from bs4 import BeautifulSoup\n",
    "from ecb_scraper.config import index_url_year, MIN_YEAR\n",
    "\n",
    "def get_year_conferences(year):\n",
    "    \"\"\"Get all press conferences for a given year.\"\"\"\n",
    "    index_url = index_url_year(year)\n",
    "    \n",
    "    response = get(index_url)\n",
    "    print(response.text)\n"
   ]
  },
  {
   "cell_type": "code",
   "execution_count": null,
   "metadata": {},
   "outputs": [],
   "source": []
  }
 ],
 "metadata": {
  "kernelspec": {
   "display_name": "Python (skfin)",
   "language": "python",
   "name": "skfin"
  },
  "language_info": {
   "codemirror_mode": {
    "name": "ipython",
    "version": 3
   },
   "file_extension": ".py",
   "mimetype": "text/x-python",
   "name": "python",
   "nbconvert_exporter": "python",
   "pygments_lexer": "ipython3",
   "version": "3.9.7"
  }
 },
 "nbformat": 4,
 "nbformat_minor": 2
}
